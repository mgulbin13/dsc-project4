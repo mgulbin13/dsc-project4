{
 "cells": [
  {
   "cell_type": "markdown",
   "metadata": {},
   "source": [
    "# Flatiron School Data Science Project 4"
   ]
  },
  {
   "cell_type": "code",
   "execution_count": 1,
   "metadata": {},
   "outputs": [],
   "source": [
    "from pyspark.sql import SparkSession\n",
    "from pyspark.ml.recommendation import ALS\n",
    "from pyspark.ml.evaluation import RegressionEvaluator"
   ]
  },
  {
   "cell_type": "code",
   "execution_count": 2,
   "metadata": {},
   "outputs": [
    {
     "name": "stderr",
     "output_type": "stream",
     "text": [
      "25/03/21 11:59:12 WARN Utils: Your hostname, Matthews-MacBook-Pro.local resolves to a loopback address: 127.0.0.1; using 10.129.2.122 instead (on interface en0)\n",
      "25/03/21 11:59:12 WARN Utils: Set SPARK_LOCAL_IP if you need to bind to another address\n",
      "Setting default log level to \"WARN\".\n",
      "To adjust logging level use sc.setLogLevel(newLevel). For SparkR, use setLogLevel(newLevel).\n",
      "25/03/21 11:59:13 WARN NativeCodeLoader: Unable to load native-hadoop library for your platform... using builtin-java classes where applicable\n"
     ]
    }
   ],
   "source": [
    "spark = SparkSession.builder.appName(\"Movie Recommender\").getOrCreate()"
   ]
  },
  {
   "cell_type": "code",
   "execution_count": 3,
   "metadata": {},
   "outputs": [
    {
     "name": "stderr",
     "output_type": "stream",
     "text": [
      "                                                                                \r"
     ]
    }
   ],
   "source": [
    "ratings_df = spark.read.csv(\"./data/ratings.csv\", header=True, inferSchema=True)\n",
    "ratings_df = ratings_df.repartition(500, \"userId\")"
   ]
  },
  {
   "cell_type": "code",
   "execution_count": 4,
   "metadata": {},
   "outputs": [],
   "source": [
    "(training, test) = ratings_df.randomSplit([.8, .2], seed=42)\n",
    "small_train = training.sample(.01, seed=42)\n",
    "small_test = test.sample(.02, seed=42)"
   ]
  },
  {
   "cell_type": "code",
   "execution_count": 5,
   "metadata": {},
   "outputs": [
    {
     "name": "stderr",
     "output_type": "stream",
     "text": [
      "25/03/21 12:01:16 WARN InstanceBuilder: Failed to load implementation from:dev.ludovic.netlib.blas.JNIBLAS\n",
      "25/03/21 12:01:18 WARN InstanceBuilder: Failed to load implementation from:dev.ludovic.netlib.lapack.JNILAPACK\n",
      "                                                                                \r"
     ]
    }
   ],
   "source": [
    "als = ALS(\n",
    "    rank=10, maxIter=5, regParam=.1, userCol=\"userId\", itemCol=\"movieId\", ratingCol=\"rating\", coldStartStrategy=\"drop\", numUserBlocks=100, numItemBlocks=100\n",
    ")\n",
    "\n",
    "als_model = als.fit(small_train)"
   ]
  },
  {
   "cell_type": "code",
   "execution_count": null,
   "metadata": {},
   "outputs": [
    {
     "data": {
      "text/plain": [
       "Param(parent='ALS_6b51b74a7592', name='predictionCol', doc='prediction column name.')"
      ]
     },
     "execution_count": 16,
     "metadata": {},
     "output_type": "execute_result"
    }
   ],
   "source": [
    "als_model.getParam(\"predictionCol\")"
   ]
  },
  {
   "cell_type": "code",
   "execution_count": 6,
   "metadata": {},
   "outputs": [],
   "source": [
    "als_predictions = als_model.transform(small_test)"
   ]
  },
  {
   "cell_type": "code",
   "execution_count": null,
   "metadata": {},
   "outputs": [
    {
     "name": "stdout",
     "output_type": "stream",
     "text": [
      "root\n",
      " |-- userId: integer (nullable = true)\n",
      " |-- movieId: integer (nullable = true)\n",
      " |-- rating: double (nullable = true)\n",
      " |-- timestamp: integer (nullable = true)\n",
      " |-- prediction: float (nullable = false)\n",
      "\n"
     ]
    }
   ],
   "source": [
    "als_predictions.printSchema()"
   ]
  },
  {
   "cell_type": "code",
   "execution_count": 7,
   "metadata": {},
   "outputs": [
    {
     "name": "stderr",
     "output_type": "stream",
     "text": [
      "[Stage 69:>                                                         (0 + 1) / 1]\r"
     ]
    },
    {
     "name": "stdout",
     "output_type": "stream",
     "text": [
      "RMSE = 3.5300198578628437\n"
     ]
    },
    {
     "name": "stderr",
     "output_type": "stream",
     "text": [
      "                                                                                \r"
     ]
    }
   ],
   "source": [
    "evaluator = RegressionEvaluator(\n",
    "    metricName=\"rmse\", \n",
    "    labelCol=\"rating\",\n",
    "    predictionCol=\"prediction\"\n",
    ")\n",
    "rmse = evaluator.evaluate(als_predictions)\n",
    "print(f\"RMSE = {rmse}\")"
   ]
  },
  {
   "cell_type": "code",
   "execution_count": 24,
   "metadata": {},
   "outputs": [],
   "source": [
    "user_factors = als_model.userFactors\n",
    "item_factors = als_model.itemFactors"
   ]
  },
  {
   "cell_type": "code",
   "execution_count": 25,
   "metadata": {},
   "outputs": [
    {
     "name": "stdout",
     "output_type": "stream",
     "text": [
      "User factors:\n",
      "+----+------------------------------------------------------------------------------------------------------------------------------+\n",
      "|id  |features                                                                                                                      |\n",
      "+----+------------------------------------------------------------------------------------------------------------------------------+\n",
      "|100 |[1.0727109, 0.046257347, -1.6158141, 1.3239769, -0.5729028, 0.33799928, -0.7600713, 0.12208241, -0.43400073, -0.0906223]      |\n",
      "|200 |[0.66309077, -0.7346368, -1.890181, 0.76086617, 0.02637443, -0.6290303, -0.26591107, -0.5079492, 0.9851072, 0.2138525]        |\n",
      "|300 |[1.0776465, -1.6779761, -1.4355997, -0.35906443, -1.0074493, -0.08925376, 0.3475545, -0.6928518, 1.0240145, 0.15007143]       |\n",
      "|500 |[0.22475551, -1.0283527, -1.9221817, 0.8625367, -1.4161441, -8.1257493E-4, -0.96380794, -0.28952616, 0.5173199, 0.7246166]    |\n",
      "|600 |[0.40538758, -1.08421, -1.7714063, -1.5594139, 0.08595891, 0.5235353, 1.1359239, -0.29417053, 1.1249522, 1.7681776]           |\n",
      "|700 |[0.16257162, -0.09406499, -1.9404382, 0.34685087, -0.49740124, 0.1235197, 0.018635774, 0.08506963, 0.46129903, 0.7045847]     |\n",
      "|1000|[0.49100748, 0.06959282, -1.7801695, 0.55251545, -1.5907111, -0.14156939, 0.5275399, -0.5059076, 0.20520656, 0.35237613]      |\n",
      "|1200|[0.5162308, -0.91019124, -1.9868639, -0.011369859, -1.0519062, 0.9394215, 0.19495863, -0.5412976, 0.72688925, 0.15657058]     |\n",
      "|1400|[0.31985313, -0.39351332, -2.5562687, 0.45483533, -0.8210444, 0.14670882, -0.10505514, 0.012581958, 0.53588134, 0.9671559]    |\n",
      "|1500|[0.5953901, -0.22732666, -2.2080467, 0.27088526, -1.4416353, -0.2602572, -0.43116018, -0.7996934, 0.74453014, 0.92142284]     |\n",
      "|1600|[0.92930704, -0.9840038, -1.7044872, 0.22292733, -0.6296308, 0.8318288, 0.097579256, -0.5534938, 0.5792032, 0.8554449]        |\n",
      "|1700|[0.36536202, -0.99242914, -2.0206332, 0.8075017, -1.2809013, 0.030081643, -0.7925077, -0.22188412, 0.43469673, 0.7507448]     |\n",
      "|2200|[0.27989802, -0.048206653, -0.620465, 0.06955563, -0.59672266, 0.6317409, -0.31052598, -0.16288911, 0.34968138, 2.2195304E-4] |\n",
      "|2300|[0.98512304, -0.7279815, -2.0431273, 0.24884483, -0.87000096, 0.5068255, -0.24620917, 0.42163098, 0.9860683, 1.0519799]       |\n",
      "|2400|[0.6942665, -0.27940655, -1.9299355, -0.06335296, -1.3837737, 0.6830569, -0.61297995, -0.92352694, 0.6559397, 0.27053583]     |\n",
      "|2500|[-0.041226942, -0.27671272, -2.651552, 0.36590558, -1.6063262, 0.34718782, -0.21813296, -1.4710034, 0.5702769, 0.43225187]    |\n",
      "|2600|[-0.007284387, -0.46014562, -1.1220602, 0.05770533, -1.0119408, -0.73627776, -0.033331923, 0.25578564, 0.0414444, -0.21304965]|\n",
      "|2700|[1.1858314, -0.6471875, -2.1359615, 0.37136227, -0.38547438, 0.9375643, -1.0121245, -0.1898965, 1.2026361, 1.0695636]         |\n",
      "|2800|[-0.92085665, -1.8670233, -1.6681536, 0.69041705, 0.34951362, 0.36007985, -0.331818, 0.105760105, 0.4505599, -0.5108839]      |\n",
      "|2900|[0.23715477, -0.8248938, -0.78654414, -0.019876743, -0.33647174, -0.23957624, -0.2299137, 0.224708, 0.8141675, 0.41715252]    |\n",
      "+----+------------------------------------------------------------------------------------------------------------------------------+\n",
      "only showing top 20 rows\n",
      "\n",
      "Item factors:\n",
      "+----+-------------------------------------------------------------------------------------------------------------------------------+\n",
      "|id  |features                                                                                                                       |\n",
      "+----+-------------------------------------------------------------------------------------------------------------------------------+\n",
      "|100 |[0.34958902, 0.24091944, -0.9428584, 0.2718502, -0.3965085, 0.71935624, 0.0713858, -0.106797874, 0.16857521, 0.24026038]       |\n",
      "|200 |[-0.42420715, -0.18820186, -1.2364441, -0.32169923, -0.21168296, -0.38965935, 0.13432242, -0.15547422, 0.15519921, 0.66125566] |\n",
      "|300 |[0.33983698, -0.067633286, -1.1315925, -0.31754223, -0.67651427, -0.15244353, -0.31445652, -0.21716376, 0.04003265, -0.2760924]|\n",
      "|400 |[0.2478803, 0.10612681, -1.2559744, 0.18509324, -0.47881982, -0.022003984, -0.6476002, -0.7737456, -0.26614076, -0.042278513]  |\n",
      "|500 |[0.410129, -0.49688327, -1.0942215, 0.124557346, 0.054714832, 0.17301723, 0.017201144, -0.57278913, -0.17784052, 0.16594405]   |\n",
      "|600 |[-0.49915832, -0.72726786, -0.6300707, -0.033098683, -0.31091002, -0.6778364, -0.24226484, -0.22850993, -0.15068306, 1.2746247]|\n",
      "|700 |[0.48001915, -0.686538, -0.91927075, -0.37211412, -0.08750697, -0.3609135, -0.712906, 0.35799783, 0.032706417, -0.0049274955]  |\n",
      "|800 |[0.5287924, -0.023475755, -0.97063345, -0.090189345, -0.96577775, -0.17568572, -0.5678764, 0.10474737, -0.38754866, 0.23460361]|\n",
      "|900 |[0.4996083, 0.19825713, -1.1572796, -0.43583784, -0.7048214, 0.2517914, -0.1476505, 0.3271165, 0.41851068, -0.42127448]        |\n",
      "|1000|[0.16395332, -0.64241594, -1.246264, 0.2945407, 0.030363332, 0.18427125, 0.017487723, -0.16348527, 0.09259799, 0.037471686]    |\n",
      "|1100|[0.6611231, -0.62906635, -0.5909931, 0.26424158, 0.16845037, 0.4224848, -0.67497754, -0.0013146992, 0.26401272, 0.26726013]    |\n",
      "|1200|[0.4609631, 0.21503179, -1.3726391, 0.013020751, -0.33486912, -0.18834403, -0.27493706, -0.12728469, 0.42901886, 0.04235986]   |\n",
      "|1300|[0.4607818, 0.39377868, -1.5098673, 0.0596302, -0.38650453, -0.20051818, 0.0539831, 0.2579133, 0.044478144, 0.08921002]        |\n",
      "|1400|[0.60652196, 0.604077, -0.56804824, -0.12650336, -0.54574424, -0.5778362, 0.009008554, -0.1335969, -0.14469676, 0.11488965]    |\n",
      "|1500|[0.33695728, -0.3176151, -1.1102128, -0.33783945, -0.9125367, -0.0894334, 0.15730762, 7.8355806E-4, 0.07209305, 0.14564271]    |\n",
      "|1600|[-0.021489512, -0.09864344, -0.8506289, 0.2518763, -0.71842366, -0.016211614, 0.024176797, -0.2909642, -0.7508603, -0.3880386] |\n",
      "|1900|[0.51008636, -0.30923766, -1.2491155, 0.09000247, -0.5038169, 0.69096965, 0.043448757, 0.8013493, 0.37999657, 0.51592]         |\n",
      "|2000|[0.15570278, -0.23584022, -1.073481, -0.22974843, -0.6003404, 0.34200728, -0.20507988, -0.32876086, 0.45312974, -0.111690074]  |\n",
      "|2100|[0.33335117, -0.22876811, -0.87015694, 0.411132, -0.27422255, 0.037706982, -0.7506087, -0.06294041, -0.21776636, -0.0012976775]|\n",
      "|2200|[0.55792797, 0.35350856, -0.97493505, -0.043010473, -0.6340805, -0.10557482, 0.15127833, 0.21538259, 0.13905813, 0.12909456]   |\n",
      "+----+-------------------------------------------------------------------------------------------------------------------------------+\n",
      "only showing top 20 rows\n",
      "\n"
     ]
    }
   ],
   "source": [
    "# Show the learned latent factors\n",
    "print(\"User factors:\")\n",
    "user_factors.show(truncate=False)\n",
    "\n",
    "print(\"Item factors:\")\n",
    "item_factors.show(truncate=False)"
   ]
  },
  {
   "cell_type": "code",
   "execution_count": null,
   "metadata": {},
   "outputs": [
    {
     "name": "stderr",
     "output_type": "stream",
     "text": [
      "[Stage 252:>                                                        (0 + 1) / 1]\r"
     ]
    },
    {
     "name": "stdout",
     "output_type": "stream",
     "text": [
      "+------+--------------------+\n",
      "|userId|     recommendations|\n",
      "+------+--------------------+\n",
      "|    31|[{146264, 4.56496...|\n",
      "|    53|[{197873, 7.98111...|\n",
      "|    65|[{197873, 7.85244...|\n",
      "|    78|[{155565, 6.62584...|\n",
      "|   108|[{105477, 6.51518...|\n",
      "|   133|[{118872, 6.05665...|\n",
      "|   137|[{197873, 8.57042...|\n",
      "|   148|[{155565, 4.90615...|\n",
      "|   155|[{118872, 6.11582...|\n",
      "|   322|[{197873, 7.14091...|\n",
      "+------+--------------------+\n",
      "only showing top 10 rows\n",
      "\n"
     ]
    },
    {
     "name": "stderr",
     "output_type": "stream",
     "text": [
      "                                                                                \r"
     ]
    }
   ],
   "source": [
    "user_recs = als_model.recommendForAllUsers(3)"
   ]
  },
  {
   "cell_type": "code",
   "execution_count": null,
   "metadata": {},
   "outputs": [
    {
     "name": "stderr",
     "output_type": "stream",
     "text": [
      "ERROR:root:KeyboardInterrupt while sending command.            (98 + 8) / 10000]\n",
      "Traceback (most recent call last):\n",
      "  File \"/opt/anaconda3/envs/fis_default/lib/python3.10/site-packages/py4j/java_gateway.py\", line 1038, in send_command\n",
      "    response = connection.send_command(command)\n",
      "  File \"/opt/anaconda3/envs/fis_default/lib/python3.10/site-packages/py4j/clientserver.py\", line 511, in send_command\n",
      "    answer = smart_decode(self.stream.readline()[:-1])\n",
      "  File \"/opt/anaconda3/envs/fis_default/lib/python3.10/socket.py\", line 705, in readinto\n",
      "    return self._sock.recv_into(b)\n",
      "KeyboardInterrupt\n",
      "[Stage 267:>                                                  (115 + 9) / 10000]\r"
     ]
    },
    {
     "ename": "KeyboardInterrupt",
     "evalue": "",
     "output_type": "error",
     "traceback": [
      "\u001b[0;31m---------------------------------------------------------------------------\u001b[0m",
      "\u001b[0;31mKeyboardInterrupt\u001b[0m                         Traceback (most recent call last)",
      "Cell \u001b[0;32mIn[27], line 1\u001b[0m\n\u001b[0;32m----> 1\u001b[0m \u001b[43muser_recs\u001b[49m\u001b[38;5;241;43m.\u001b[39;49m\u001b[43mshow\u001b[49m\u001b[43m(\u001b[49m\u001b[38;5;241;43m10\u001b[39;49m\u001b[43m)\u001b[49m\n",
      "File \u001b[0;32m/opt/anaconda3/envs/fis_default/lib/python3.10/site-packages/pyspark/sql/dataframe.py:947\u001b[0m, in \u001b[0;36mDataFrame.show\u001b[0;34m(self, n, truncate, vertical)\u001b[0m\n\u001b[1;32m    887\u001b[0m \u001b[38;5;28;01mdef\u001b[39;00m \u001b[38;5;21mshow\u001b[39m(\u001b[38;5;28mself\u001b[39m, n: \u001b[38;5;28mint\u001b[39m \u001b[38;5;241m=\u001b[39m \u001b[38;5;241m20\u001b[39m, truncate: Union[\u001b[38;5;28mbool\u001b[39m, \u001b[38;5;28mint\u001b[39m] \u001b[38;5;241m=\u001b[39m \u001b[38;5;28;01mTrue\u001b[39;00m, vertical: \u001b[38;5;28mbool\u001b[39m \u001b[38;5;241m=\u001b[39m \u001b[38;5;28;01mFalse\u001b[39;00m) \u001b[38;5;241m-\u001b[39m\u001b[38;5;241m>\u001b[39m \u001b[38;5;28;01mNone\u001b[39;00m:\n\u001b[1;32m    888\u001b[0m \u001b[38;5;250m    \u001b[39m\u001b[38;5;124;03m\"\"\"Prints the first ``n`` rows to the console.\u001b[39;00m\n\u001b[1;32m    889\u001b[0m \n\u001b[1;32m    890\u001b[0m \u001b[38;5;124;03m    .. versionadded:: 1.3.0\u001b[39;00m\n\u001b[0;32m   (...)\u001b[0m\n\u001b[1;32m    945\u001b[0m \u001b[38;5;124;03m    name | Bob\u001b[39;00m\n\u001b[1;32m    946\u001b[0m \u001b[38;5;124;03m    \"\"\"\u001b[39;00m\n\u001b[0;32m--> 947\u001b[0m     \u001b[38;5;28mprint\u001b[39m(\u001b[38;5;28;43mself\u001b[39;49m\u001b[38;5;241;43m.\u001b[39;49m\u001b[43m_show_string\u001b[49m\u001b[43m(\u001b[49m\u001b[43mn\u001b[49m\u001b[43m,\u001b[49m\u001b[43m \u001b[49m\u001b[43mtruncate\u001b[49m\u001b[43m,\u001b[49m\u001b[43m \u001b[49m\u001b[43mvertical\u001b[49m\u001b[43m)\u001b[49m)\n",
      "File \u001b[0;32m/opt/anaconda3/envs/fis_default/lib/python3.10/site-packages/pyspark/sql/dataframe.py:965\u001b[0m, in \u001b[0;36mDataFrame._show_string\u001b[0;34m(self, n, truncate, vertical)\u001b[0m\n\u001b[1;32m    959\u001b[0m     \u001b[38;5;28;01mraise\u001b[39;00m PySparkTypeError(\n\u001b[1;32m    960\u001b[0m         error_class\u001b[38;5;241m=\u001b[39m\u001b[38;5;124m\"\u001b[39m\u001b[38;5;124mNOT_BOOL\u001b[39m\u001b[38;5;124m\"\u001b[39m,\n\u001b[1;32m    961\u001b[0m         message_parameters\u001b[38;5;241m=\u001b[39m{\u001b[38;5;124m\"\u001b[39m\u001b[38;5;124marg_name\u001b[39m\u001b[38;5;124m\"\u001b[39m: \u001b[38;5;124m\"\u001b[39m\u001b[38;5;124mvertical\u001b[39m\u001b[38;5;124m\"\u001b[39m, \u001b[38;5;124m\"\u001b[39m\u001b[38;5;124marg_type\u001b[39m\u001b[38;5;124m\"\u001b[39m: \u001b[38;5;28mtype\u001b[39m(vertical)\u001b[38;5;241m.\u001b[39m\u001b[38;5;18m__name__\u001b[39m},\n\u001b[1;32m    962\u001b[0m     )\n\u001b[1;32m    964\u001b[0m \u001b[38;5;28;01mif\u001b[39;00m \u001b[38;5;28misinstance\u001b[39m(truncate, \u001b[38;5;28mbool\u001b[39m) \u001b[38;5;129;01mand\u001b[39;00m truncate:\n\u001b[0;32m--> 965\u001b[0m     \u001b[38;5;28;01mreturn\u001b[39;00m \u001b[38;5;28;43mself\u001b[39;49m\u001b[38;5;241;43m.\u001b[39;49m\u001b[43m_jdf\u001b[49m\u001b[38;5;241;43m.\u001b[39;49m\u001b[43mshowString\u001b[49m\u001b[43m(\u001b[49m\u001b[43mn\u001b[49m\u001b[43m,\u001b[49m\u001b[43m \u001b[49m\u001b[38;5;241;43m20\u001b[39;49m\u001b[43m,\u001b[49m\u001b[43m \u001b[49m\u001b[43mvertical\u001b[49m\u001b[43m)\u001b[49m\n\u001b[1;32m    966\u001b[0m \u001b[38;5;28;01melse\u001b[39;00m:\n\u001b[1;32m    967\u001b[0m     \u001b[38;5;28;01mtry\u001b[39;00m:\n",
      "File \u001b[0;32m/opt/anaconda3/envs/fis_default/lib/python3.10/site-packages/py4j/java_gateway.py:1321\u001b[0m, in \u001b[0;36mJavaMember.__call__\u001b[0;34m(self, *args)\u001b[0m\n\u001b[1;32m   1314\u001b[0m args_command, temp_args \u001b[38;5;241m=\u001b[39m \u001b[38;5;28mself\u001b[39m\u001b[38;5;241m.\u001b[39m_build_args(\u001b[38;5;241m*\u001b[39margs)\n\u001b[1;32m   1316\u001b[0m command \u001b[38;5;241m=\u001b[39m proto\u001b[38;5;241m.\u001b[39mCALL_COMMAND_NAME \u001b[38;5;241m+\u001b[39m\\\n\u001b[1;32m   1317\u001b[0m     \u001b[38;5;28mself\u001b[39m\u001b[38;5;241m.\u001b[39mcommand_header \u001b[38;5;241m+\u001b[39m\\\n\u001b[1;32m   1318\u001b[0m     args_command \u001b[38;5;241m+\u001b[39m\\\n\u001b[1;32m   1319\u001b[0m     proto\u001b[38;5;241m.\u001b[39mEND_COMMAND_PART\n\u001b[0;32m-> 1321\u001b[0m answer \u001b[38;5;241m=\u001b[39m \u001b[38;5;28;43mself\u001b[39;49m\u001b[38;5;241;43m.\u001b[39;49m\u001b[43mgateway_client\u001b[49m\u001b[38;5;241;43m.\u001b[39;49m\u001b[43msend_command\u001b[49m\u001b[43m(\u001b[49m\u001b[43mcommand\u001b[49m\u001b[43m)\u001b[49m\n\u001b[1;32m   1322\u001b[0m return_value \u001b[38;5;241m=\u001b[39m get_return_value(\n\u001b[1;32m   1323\u001b[0m     answer, \u001b[38;5;28mself\u001b[39m\u001b[38;5;241m.\u001b[39mgateway_client, \u001b[38;5;28mself\u001b[39m\u001b[38;5;241m.\u001b[39mtarget_id, \u001b[38;5;28mself\u001b[39m\u001b[38;5;241m.\u001b[39mname)\n\u001b[1;32m   1325\u001b[0m \u001b[38;5;28;01mfor\u001b[39;00m temp_arg \u001b[38;5;129;01min\u001b[39;00m temp_args:\n",
      "File \u001b[0;32m/opt/anaconda3/envs/fis_default/lib/python3.10/site-packages/py4j/java_gateway.py:1038\u001b[0m, in \u001b[0;36mGatewayClient.send_command\u001b[0;34m(self, command, retry, binary)\u001b[0m\n\u001b[1;32m   1036\u001b[0m connection \u001b[38;5;241m=\u001b[39m \u001b[38;5;28mself\u001b[39m\u001b[38;5;241m.\u001b[39m_get_connection()\n\u001b[1;32m   1037\u001b[0m \u001b[38;5;28;01mtry\u001b[39;00m:\n\u001b[0;32m-> 1038\u001b[0m     response \u001b[38;5;241m=\u001b[39m \u001b[43mconnection\u001b[49m\u001b[38;5;241;43m.\u001b[39;49m\u001b[43msend_command\u001b[49m\u001b[43m(\u001b[49m\u001b[43mcommand\u001b[49m\u001b[43m)\u001b[49m\n\u001b[1;32m   1039\u001b[0m     \u001b[38;5;28;01mif\u001b[39;00m binary:\n\u001b[1;32m   1040\u001b[0m         \u001b[38;5;28;01mreturn\u001b[39;00m response, \u001b[38;5;28mself\u001b[39m\u001b[38;5;241m.\u001b[39m_create_connection_guard(connection)\n",
      "File \u001b[0;32m/opt/anaconda3/envs/fis_default/lib/python3.10/site-packages/py4j/clientserver.py:511\u001b[0m, in \u001b[0;36mClientServerConnection.send_command\u001b[0;34m(self, command)\u001b[0m\n\u001b[1;32m    509\u001b[0m \u001b[38;5;28;01mtry\u001b[39;00m:\n\u001b[1;32m    510\u001b[0m     \u001b[38;5;28;01mwhile\u001b[39;00m \u001b[38;5;28;01mTrue\u001b[39;00m:\n\u001b[0;32m--> 511\u001b[0m         answer \u001b[38;5;241m=\u001b[39m smart_decode(\u001b[38;5;28;43mself\u001b[39;49m\u001b[38;5;241;43m.\u001b[39;49m\u001b[43mstream\u001b[49m\u001b[38;5;241;43m.\u001b[39;49m\u001b[43mreadline\u001b[49m\u001b[43m(\u001b[49m\u001b[43m)\u001b[49m[:\u001b[38;5;241m-\u001b[39m\u001b[38;5;241m1\u001b[39m])\n\u001b[1;32m    512\u001b[0m         logger\u001b[38;5;241m.\u001b[39mdebug(\u001b[38;5;124m\"\u001b[39m\u001b[38;5;124mAnswer received: \u001b[39m\u001b[38;5;132;01m{0}\u001b[39;00m\u001b[38;5;124m\"\u001b[39m\u001b[38;5;241m.\u001b[39mformat(answer))\n\u001b[1;32m    513\u001b[0m         \u001b[38;5;66;03m# Happens when a the other end is dead. There might be an empty\u001b[39;00m\n\u001b[1;32m    514\u001b[0m         \u001b[38;5;66;03m# answer before the socket raises an error.\u001b[39;00m\n",
      "File \u001b[0;32m/opt/anaconda3/envs/fis_default/lib/python3.10/socket.py:705\u001b[0m, in \u001b[0;36mSocketIO.readinto\u001b[0;34m(self, b)\u001b[0m\n\u001b[1;32m    703\u001b[0m \u001b[38;5;28;01mwhile\u001b[39;00m \u001b[38;5;28;01mTrue\u001b[39;00m:\n\u001b[1;32m    704\u001b[0m     \u001b[38;5;28;01mtry\u001b[39;00m:\n\u001b[0;32m--> 705\u001b[0m         \u001b[38;5;28;01mreturn\u001b[39;00m \u001b[38;5;28;43mself\u001b[39;49m\u001b[38;5;241;43m.\u001b[39;49m\u001b[43m_sock\u001b[49m\u001b[38;5;241;43m.\u001b[39;49m\u001b[43mrecv_into\u001b[49m\u001b[43m(\u001b[49m\u001b[43mb\u001b[49m\u001b[43m)\u001b[49m\n\u001b[1;32m    706\u001b[0m     \u001b[38;5;28;01mexcept\u001b[39;00m timeout:\n\u001b[1;32m    707\u001b[0m         \u001b[38;5;28mself\u001b[39m\u001b[38;5;241m.\u001b[39m_timeout_occurred \u001b[38;5;241m=\u001b[39m \u001b[38;5;28;01mTrue\u001b[39;00m\n",
      "\u001b[0;31mKeyboardInterrupt\u001b[0m: "
     ]
    },
    {
     "name": "stderr",
     "output_type": "stream",
     "text": [
      "[Stage 267:===========================>                      (5553 + 8) / 10000]\r"
     ]
    }
   ],
   "source": [
    "user_recs.show(10)"
   ]
  },
  {
   "cell_type": "code",
   "execution_count": null,
   "metadata": {},
   "outputs": [],
   "source": []
  }
 ],
 "metadata": {
  "kernelspec": {
   "display_name": "Python (fis_default)",
   "language": "python",
   "name": "fis_default"
  },
  "language_info": {
   "codemirror_mode": {
    "name": "ipython",
    "version": 3
   },
   "file_extension": ".py",
   "mimetype": "text/x-python",
   "name": "python",
   "nbconvert_exporter": "python",
   "pygments_lexer": "ipython3",
   "version": "3.10.16"
  }
 },
 "nbformat": 4,
 "nbformat_minor": 2
}
