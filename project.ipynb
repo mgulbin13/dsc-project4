{
 "cells": [
  {
   "cell_type": "markdown",
   "metadata": {},
   "source": [
    "# Flatiron School Data Science Project 4"
   ]
  },
  {
   "cell_type": "code",
   "execution_count": 12,
   "metadata": {},
   "outputs": [],
   "source": [
    "# imports\n",
    "import pandas as pd\n",
    "from dotenv import load_dotenv\n",
    "import os"
   ]
  },
  {
   "cell_type": "code",
   "execution_count": 2,
   "metadata": {},
   "outputs": [
    {
     "data": {
      "application/vnd.microsoft.datawrangler.viewer.v0+json": {
       "columns": [
        {
         "name": "index",
         "rawType": "int64",
         "type": "integer"
        },
        {
         "name": "151603712",
         "rawType": "int64",
         "type": "integer"
        },
        {
         "name": "The Elder Scrolls V Skyrim",
         "rawType": "object",
         "type": "string"
        },
        {
         "name": "purchase",
         "rawType": "object",
         "type": "string"
        },
        {
         "name": "1.0",
         "rawType": "float64",
         "type": "float"
        },
        {
         "name": "0",
         "rawType": "int64",
         "type": "integer"
        }
       ],
       "conversionMethod": "pd.DataFrame",
       "ref": "d2d90f0e-5437-454c-9889-468865fd94e2",
       "rows": [
        [
         "0",
         "151603712",
         "The Elder Scrolls V Skyrim",
         "play",
         "273.0",
         "0"
        ],
        [
         "1",
         "151603712",
         "Fallout 4",
         "purchase",
         "1.0",
         "0"
        ],
        [
         "2",
         "151603712",
         "Fallout 4",
         "play",
         "87.0",
         "0"
        ],
        [
         "3",
         "151603712",
         "Spore",
         "purchase",
         "1.0",
         "0"
        ],
        [
         "4",
         "151603712",
         "Spore",
         "play",
         "14.9",
         "0"
        ],
        [
         "5",
         "151603712",
         "Fallout New Vegas",
         "purchase",
         "1.0",
         "0"
        ],
        [
         "6",
         "151603712",
         "Fallout New Vegas",
         "play",
         "12.1",
         "0"
        ],
        [
         "7",
         "151603712",
         "Left 4 Dead 2",
         "purchase",
         "1.0",
         "0"
        ],
        [
         "8",
         "151603712",
         "Left 4 Dead 2",
         "play",
         "8.9",
         "0"
        ],
        [
         "9",
         "151603712",
         "HuniePop",
         "purchase",
         "1.0",
         "0"
        ],
        [
         "10",
         "151603712",
         "HuniePop",
         "play",
         "8.5",
         "0"
        ],
        [
         "11",
         "151603712",
         "Path of Exile",
         "purchase",
         "1.0",
         "0"
        ],
        [
         "12",
         "151603712",
         "Path of Exile",
         "play",
         "8.1",
         "0"
        ],
        [
         "13",
         "151603712",
         "Poly Bridge",
         "purchase",
         "1.0",
         "0"
        ],
        [
         "14",
         "151603712",
         "Poly Bridge",
         "play",
         "7.5",
         "0"
        ],
        [
         "15",
         "151603712",
         "Left 4 Dead",
         "purchase",
         "1.0",
         "0"
        ],
        [
         "16",
         "151603712",
         "Left 4 Dead",
         "play",
         "3.3",
         "0"
        ],
        [
         "17",
         "151603712",
         "Team Fortress 2",
         "purchase",
         "1.0",
         "0"
        ],
        [
         "18",
         "151603712",
         "Team Fortress 2",
         "play",
         "2.8",
         "0"
        ],
        [
         "19",
         "151603712",
         "Tomb Raider",
         "purchase",
         "1.0",
         "0"
        ],
        [
         "20",
         "151603712",
         "Tomb Raider",
         "play",
         "2.5",
         "0"
        ],
        [
         "21",
         "151603712",
         "The Banner Saga",
         "purchase",
         "1.0",
         "0"
        ],
        [
         "22",
         "151603712",
         "The Banner Saga",
         "play",
         "2.0",
         "0"
        ],
        [
         "23",
         "151603712",
         "Dead Island Epidemic",
         "purchase",
         "1.0",
         "0"
        ],
        [
         "24",
         "151603712",
         "Dead Island Epidemic",
         "play",
         "1.4",
         "0"
        ],
        [
         "25",
         "151603712",
         "BioShock Infinite",
         "purchase",
         "1.0",
         "0"
        ],
        [
         "26",
         "151603712",
         "BioShock Infinite",
         "play",
         "1.3",
         "0"
        ],
        [
         "27",
         "151603712",
         "Dragon Age Origins - Ultimate Edition",
         "purchase",
         "1.0",
         "0"
        ],
        [
         "28",
         "151603712",
         "Dragon Age Origins - Ultimate Edition",
         "play",
         "1.3",
         "0"
        ],
        [
         "29",
         "151603712",
         "Fallout 3 - Game of the Year Edition",
         "purchase",
         "1.0",
         "0"
        ],
        [
         "30",
         "151603712",
         "Fallout 3 - Game of the Year Edition",
         "play",
         "0.8",
         "0"
        ],
        [
         "31",
         "151603712",
         "SEGA Genesis & Mega Drive Classics",
         "purchase",
         "1.0",
         "0"
        ],
        [
         "32",
         "151603712",
         "SEGA Genesis & Mega Drive Classics",
         "play",
         "0.8",
         "0"
        ],
        [
         "33",
         "151603712",
         "Grand Theft Auto IV",
         "purchase",
         "1.0",
         "0"
        ],
        [
         "34",
         "151603712",
         "Grand Theft Auto IV",
         "play",
         "0.6",
         "0"
        ],
        [
         "35",
         "151603712",
         "Realm of the Mad God",
         "purchase",
         "1.0",
         "0"
        ],
        [
         "36",
         "151603712",
         "Realm of the Mad God",
         "play",
         "0.5",
         "0"
        ],
        [
         "37",
         "151603712",
         "Marvel Heroes 2015",
         "purchase",
         "1.0",
         "0"
        ],
        [
         "38",
         "151603712",
         "Marvel Heroes 2015",
         "play",
         "0.5",
         "0"
        ],
        [
         "39",
         "151603712",
         "Eldevin",
         "purchase",
         "1.0",
         "0"
        ],
        [
         "40",
         "151603712",
         "Eldevin",
         "play",
         "0.5",
         "0"
        ],
        [
         "41",
         "151603712",
         "Dota 2",
         "purchase",
         "1.0",
         "0"
        ],
        [
         "42",
         "151603712",
         "Dota 2",
         "play",
         "0.5",
         "0"
        ],
        [
         "43",
         "151603712",
         "BioShock",
         "purchase",
         "1.0",
         "0"
        ],
        [
         "44",
         "151603712",
         "BioShock",
         "play",
         "0.5",
         "0"
        ],
        [
         "45",
         "151603712",
         "Robocraft",
         "purchase",
         "1.0",
         "0"
        ],
        [
         "46",
         "151603712",
         "Robocraft",
         "play",
         "0.4",
         "0"
        ],
        [
         "47",
         "151603712",
         "Garry's Mod",
         "purchase",
         "1.0",
         "0"
        ],
        [
         "48",
         "151603712",
         "Garry's Mod",
         "play",
         "0.1",
         "0"
        ],
        [
         "49",
         "151603712",
         "Jazzpunk",
         "purchase",
         "1.0",
         "0"
        ]
       ],
       "shape": {
        "columns": 5,
        "rows": 199999
       }
      },
      "text/html": [
       "<div>\n",
       "<style scoped>\n",
       "    .dataframe tbody tr th:only-of-type {\n",
       "        vertical-align: middle;\n",
       "    }\n",
       "\n",
       "    .dataframe tbody tr th {\n",
       "        vertical-align: top;\n",
       "    }\n",
       "\n",
       "    .dataframe thead th {\n",
       "        text-align: right;\n",
       "    }\n",
       "</style>\n",
       "<table border=\"1\" class=\"dataframe\">\n",
       "  <thead>\n",
       "    <tr style=\"text-align: right;\">\n",
       "      <th></th>\n",
       "      <th>151603712</th>\n",
       "      <th>The Elder Scrolls V Skyrim</th>\n",
       "      <th>purchase</th>\n",
       "      <th>1.0</th>\n",
       "      <th>0</th>\n",
       "    </tr>\n",
       "  </thead>\n",
       "  <tbody>\n",
       "    <tr>\n",
       "      <th>0</th>\n",
       "      <td>151603712</td>\n",
       "      <td>The Elder Scrolls V Skyrim</td>\n",
       "      <td>play</td>\n",
       "      <td>273.0</td>\n",
       "      <td>0</td>\n",
       "    </tr>\n",
       "    <tr>\n",
       "      <th>1</th>\n",
       "      <td>151603712</td>\n",
       "      <td>Fallout 4</td>\n",
       "      <td>purchase</td>\n",
       "      <td>1.0</td>\n",
       "      <td>0</td>\n",
       "    </tr>\n",
       "    <tr>\n",
       "      <th>2</th>\n",
       "      <td>151603712</td>\n",
       "      <td>Fallout 4</td>\n",
       "      <td>play</td>\n",
       "      <td>87.0</td>\n",
       "      <td>0</td>\n",
       "    </tr>\n",
       "    <tr>\n",
       "      <th>3</th>\n",
       "      <td>151603712</td>\n",
       "      <td>Spore</td>\n",
       "      <td>purchase</td>\n",
       "      <td>1.0</td>\n",
       "      <td>0</td>\n",
       "    </tr>\n",
       "    <tr>\n",
       "      <th>4</th>\n",
       "      <td>151603712</td>\n",
       "      <td>Spore</td>\n",
       "      <td>play</td>\n",
       "      <td>14.9</td>\n",
       "      <td>0</td>\n",
       "    </tr>\n",
       "    <tr>\n",
       "      <th>...</th>\n",
       "      <td>...</td>\n",
       "      <td>...</td>\n",
       "      <td>...</td>\n",
       "      <td>...</td>\n",
       "      <td>...</td>\n",
       "    </tr>\n",
       "    <tr>\n",
       "      <th>199994</th>\n",
       "      <td>128470551</td>\n",
       "      <td>Titan Souls</td>\n",
       "      <td>play</td>\n",
       "      <td>1.5</td>\n",
       "      <td>0</td>\n",
       "    </tr>\n",
       "    <tr>\n",
       "      <th>199995</th>\n",
       "      <td>128470551</td>\n",
       "      <td>Grand Theft Auto Vice City</td>\n",
       "      <td>purchase</td>\n",
       "      <td>1.0</td>\n",
       "      <td>0</td>\n",
       "    </tr>\n",
       "    <tr>\n",
       "      <th>199996</th>\n",
       "      <td>128470551</td>\n",
       "      <td>Grand Theft Auto Vice City</td>\n",
       "      <td>play</td>\n",
       "      <td>1.5</td>\n",
       "      <td>0</td>\n",
       "    </tr>\n",
       "    <tr>\n",
       "      <th>199997</th>\n",
       "      <td>128470551</td>\n",
       "      <td>RUSH</td>\n",
       "      <td>purchase</td>\n",
       "      <td>1.0</td>\n",
       "      <td>0</td>\n",
       "    </tr>\n",
       "    <tr>\n",
       "      <th>199998</th>\n",
       "      <td>128470551</td>\n",
       "      <td>RUSH</td>\n",
       "      <td>play</td>\n",
       "      <td>1.4</td>\n",
       "      <td>0</td>\n",
       "    </tr>\n",
       "  </tbody>\n",
       "</table>\n",
       "<p>199999 rows × 5 columns</p>\n",
       "</div>"
      ],
      "text/plain": [
       "        151603712  The Elder Scrolls V Skyrim  purchase    1.0  0\n",
       "0       151603712  The Elder Scrolls V Skyrim      play  273.0  0\n",
       "1       151603712                   Fallout 4  purchase    1.0  0\n",
       "2       151603712                   Fallout 4      play   87.0  0\n",
       "3       151603712                       Spore  purchase    1.0  0\n",
       "4       151603712                       Spore      play   14.9  0\n",
       "...           ...                         ...       ...    ... ..\n",
       "199994  128470551                 Titan Souls      play    1.5  0\n",
       "199995  128470551  Grand Theft Auto Vice City  purchase    1.0  0\n",
       "199996  128470551  Grand Theft Auto Vice City      play    1.5  0\n",
       "199997  128470551                        RUSH  purchase    1.0  0\n",
       "199998  128470551                        RUSH      play    1.4  0\n",
       "\n",
       "[199999 rows x 5 columns]"
      ]
     },
     "execution_count": 2,
     "metadata": {},
     "output_type": "execute_result"
    }
   ],
   "source": [
    "first_df = pd.read_csv('./data/steam-200k.csv')\n",
    "first_df"
   ]
  },
  {
   "cell_type": "code",
   "execution_count": 4,
   "metadata": {},
   "outputs": [
    {
     "data": {
      "application/vnd.microsoft.datawrangler.viewer.v0+json": {
       "columns": [
        {
         "name": "index",
         "rawType": "int64",
         "type": "integer"
        },
        {
         "name": "UserID",
         "rawType": "int64",
         "type": "integer"
        },
        {
         "name": "Title",
         "rawType": "object",
         "type": "string"
        },
        {
         "name": "Playtime",
         "rawType": "float64",
         "type": "float"
        }
       ],
       "conversionMethod": "pd.DataFrame",
       "ref": "19276c4f-56c2-43a9-9e64-70258967326c",
       "rows": [
        [
         "0",
         "151603712",
         "The Elder Scrolls V Skyrim",
         "273.0"
        ],
        [
         "2",
         "151603712",
         "Fallout 4",
         "87.0"
        ],
        [
         "4",
         "151603712",
         "Spore",
         "14.9"
        ],
        [
         "6",
         "151603712",
         "Fallout New Vegas",
         "12.1"
        ],
        [
         "8",
         "151603712",
         "Left 4 Dead 2",
         "8.9"
        ]
       ],
       "shape": {
        "columns": 3,
        "rows": 5
       }
      },
      "text/html": [
       "<div>\n",
       "<style scoped>\n",
       "    .dataframe tbody tr th:only-of-type {\n",
       "        vertical-align: middle;\n",
       "    }\n",
       "\n",
       "    .dataframe tbody tr th {\n",
       "        vertical-align: top;\n",
       "    }\n",
       "\n",
       "    .dataframe thead th {\n",
       "        text-align: right;\n",
       "    }\n",
       "</style>\n",
       "<table border=\"1\" class=\"dataframe\">\n",
       "  <thead>\n",
       "    <tr style=\"text-align: right;\">\n",
       "      <th></th>\n",
       "      <th>UserID</th>\n",
       "      <th>Title</th>\n",
       "      <th>Playtime</th>\n",
       "    </tr>\n",
       "  </thead>\n",
       "  <tbody>\n",
       "    <tr>\n",
       "      <th>0</th>\n",
       "      <td>151603712</td>\n",
       "      <td>The Elder Scrolls V Skyrim</td>\n",
       "      <td>273.0</td>\n",
       "    </tr>\n",
       "    <tr>\n",
       "      <th>2</th>\n",
       "      <td>151603712</td>\n",
       "      <td>Fallout 4</td>\n",
       "      <td>87.0</td>\n",
       "    </tr>\n",
       "    <tr>\n",
       "      <th>4</th>\n",
       "      <td>151603712</td>\n",
       "      <td>Spore</td>\n",
       "      <td>14.9</td>\n",
       "    </tr>\n",
       "    <tr>\n",
       "      <th>6</th>\n",
       "      <td>151603712</td>\n",
       "      <td>Fallout New Vegas</td>\n",
       "      <td>12.1</td>\n",
       "    </tr>\n",
       "    <tr>\n",
       "      <th>8</th>\n",
       "      <td>151603712</td>\n",
       "      <td>Left 4 Dead 2</td>\n",
       "      <td>8.9</td>\n",
       "    </tr>\n",
       "  </tbody>\n",
       "</table>\n",
       "</div>"
      ],
      "text/plain": [
       "      UserID                       Title  Playtime\n",
       "0  151603712  The Elder Scrolls V Skyrim     273.0\n",
       "2  151603712                   Fallout 4      87.0\n",
       "4  151603712                       Spore      14.9\n",
       "6  151603712           Fallout New Vegas      12.1\n",
       "8  151603712               Left 4 Dead 2       8.9"
      ]
     },
     "execution_count": 4,
     "metadata": {},
     "output_type": "execute_result"
    }
   ],
   "source": [
    "\"\"\"\n",
    "Cell generated by Data Wrangler.\n",
    "\"\"\"\n",
    "def clean_data(first_df):\n",
    "    # Drop column: '0'\n",
    "    first_df = first_df.drop(columns=['0'])\n",
    "    # Filter rows based on column: 'purchase'\n",
    "    first_df = first_df[first_df['purchase'] == \"play\"]\n",
    "    # Rename column '1.0' to 'Playtime'\n",
    "    first_df = first_df.rename(columns={'1.0': 'Playtime'})\n",
    "    # Drop column: 'purchase'\n",
    "    first_df = first_df.drop(columns=['purchase'])\n",
    "    # Rename column '151603712' to 'UserID'\n",
    "    first_df = first_df.rename(columns={'151603712': 'UserID'})\n",
    "    # Rename column 'The Elder Scrolls V Skyrim' to 'Title'\n",
    "    first_df = first_df.rename(columns={'The Elder Scrolls V Skyrim': 'Title'})\n",
    "    return first_df\n",
    "\n",
    "first_df_clean = clean_data(first_df.copy())\n",
    "first_df_clean.head()"
   ]
  },
  {
   "cell_type": "code",
   "execution_count": 9,
   "metadata": {},
   "outputs": [
    {
     "data": {
      "text/plain": [
       "Title\n",
       "Dota 2                                         4841\n",
       "Team Fortress 2                                2323\n",
       "Counter-Strike Global Offensive                1377\n",
       "Unturned                                       1069\n",
       "Left 4 Dead 2                                   801\n",
       "Counter-Strike Source                           715\n",
       "The Elder Scrolls V Skyrim                      677\n",
       "Garry's Mod                                     666\n",
       "Counter-Strike                                  568\n",
       "Sid Meier's Civilization V                      554\n",
       "Terraria                                        460\n",
       "Portal 2                                        453\n",
       "Warframe                                        424\n",
       "Portal                                          417\n",
       "Robocraft                                       407\n",
       "PAYDAY 2                                        390\n",
       "Borderlands 2                                   386\n",
       "Half-Life 2                                     356\n",
       "Heroes & Generals                               335\n",
       "War Thunder                                     303\n",
       "Call of Duty Modern Warfare 2                   297\n",
       "Call of Duty Modern Warfare 2 - Multiplayer     291\n",
       "Alien Swarm                                     289\n",
       "Fallout New Vegas                               287\n",
       "Grand Theft Auto V                              269\n",
       "Trove                                           253\n",
       "DayZ                                            246\n",
       "No More Room in Hell                            230\n",
       "Call of Duty Black Ops                          227\n",
       "Grand Theft Auto IV                             226\n",
       "Name: count, dtype: int64"
      ]
     },
     "execution_count": 9,
     "metadata": {},
     "output_type": "execute_result"
    }
   ],
   "source": [
    "first_df_clean['Title'].value_counts().head(30)"
   ]
  },
  {
   "cell_type": "code",
   "execution_count": 10,
   "metadata": {},
   "outputs": [],
   "source": [
    "first_df_clean.loc[first_df_clean['Playtime'] >= 2.0, 'Enjoyed'] = 1\n",
    "first_df_clean.loc[first_df_clean['Playtime'] < 2.0, 'Enjoyed'] = 0"
   ]
  },
  {
   "cell_type": "code",
   "execution_count": 15,
   "metadata": {},
   "outputs": [
    {
     "data": {
      "text/plain": [
       "11350"
      ]
     },
     "execution_count": 15,
     "metadata": {},
     "output_type": "execute_result"
    }
   ],
   "source": [
    "len(first_df_clean['UserID'].unique())"
   ]
  },
  {
   "cell_type": "code",
   "execution_count": null,
   "metadata": {},
   "outputs": [],
   "source": []
  }
 ],
 "metadata": {
  "kernelspec": {
   "display_name": "Python (fis_default)",
   "language": "python",
   "name": "fis_default"
  },
  "language_info": {
   "codemirror_mode": {
    "name": "ipython",
    "version": 3
   },
   "file_extension": ".py",
   "mimetype": "text/x-python",
   "name": "python",
   "nbconvert_exporter": "python",
   "pygments_lexer": "ipython3",
   "version": "3.10.16"
  }
 },
 "nbformat": 4,
 "nbformat_minor": 2
}
